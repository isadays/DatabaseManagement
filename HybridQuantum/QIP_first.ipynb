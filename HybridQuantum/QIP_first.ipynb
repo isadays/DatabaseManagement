{
 "cells": [
  {
   "cell_type": "code",
   "execution_count": 3,
   "metadata": {},
   "outputs": [
    {
     "name": "stdout",
     "output_type": "stream",
     "text": [
      "Collecting qiskit\n",
      "  Downloading qiskit-1.1.1-cp38-abi3-macosx_10_9_x86_64.whl (4.1 MB)\n",
      "\u001b[K     |████████████████████████████████| 4.1 MB 7.3 MB/s eta 0:00:01     |██████                          | 757 kB 7.3 MB/s eta 0:00:01     |████████████████▎               | 2.1 MB 7.3 MB/s eta 0:00:01\n",
      "\u001b[?25hCollecting stevedore>=3.0.0\n",
      "  Downloading stevedore-5.2.0-py3-none-any.whl (49 kB)\n",
      "\u001b[K     |████████████████████████████████| 49 kB 1.2 MB/s eta 0:00:011\n",
      "\u001b[?25hCollecting scipy>=1.5\n",
      "  Downloading scipy-1.13.1-cp39-cp39-macosx_10_9_x86_64.whl (39.4 MB)\n",
      "\u001b[K     |████████████████████████████████| 39.4 MB 4.8 MB/s eta 0:00:01    |███▏                            | 3.9 MB 7.4 MB/s eta 0:00:05\n",
      "\u001b[?25hCollecting rustworkx>=0.14.0\n",
      "  Downloading rustworkx-0.15.0-cp38-abi3-macosx_10_12_x86_64.whl (1.9 MB)\n",
      "\u001b[K     |████████████████████████████████| 1.9 MB 21.0 MB/s eta 0:00:01\n",
      "\u001b[?25hCollecting symengine>=0.11\n",
      "  Downloading symengine-0.11.0-cp39-cp39-macosx_10_9_x86_64.whl (23.8 MB)\n",
      "\u001b[K     |████████████████████████████████| 23.8 MB 3.6 MB/s eta 0:00:01\n",
      "\u001b[?25hCollecting sympy>=1.3\n",
      "  Downloading sympy-1.12.1-py3-none-any.whl (5.7 MB)\n",
      "\u001b[K     |████████████████████████████████| 5.7 MB 1.1 MB/s eta 0:00:01\n",
      "\u001b[?25hRequirement already satisfied: typing-extensions in /Users/isabeladias/.pyenv/versions/3.9.6/lib/python3.9/site-packages (from qiskit) (4.12.2)\n",
      "Collecting dill>=0.3\n",
      "  Downloading dill-0.3.8-py3-none-any.whl (116 kB)\n",
      "\u001b[K     |████████████████████████████████| 116 kB 4.0 MB/s eta 0:00:01\n",
      "\u001b[?25hCollecting numpy<3,>=1.17\n",
      "  Downloading numpy-2.0.0-cp39-cp39-macosx_10_9_x86_64.whl (21.2 MB)\n",
      "\u001b[K     |████████████████████████████████| 21.2 MB 100 kB/s eta 0:00:01     |█████████████████▊              | 11.8 MB 4.5 MB/s eta 0:00:03\n",
      "\u001b[?25hRequirement already satisfied: python-dateutil>=2.8.0 in /Users/isabeladias/.pyenv/versions/3.9.6/lib/python3.9/site-packages (from qiskit) (2.9.0.post0)\n",
      "Requirement already satisfied: six>=1.5 in /Users/isabeladias/.pyenv/versions/3.9.6/lib/python3.9/site-packages (from python-dateutil>=2.8.0->qiskit) (1.16.0)\n",
      "Collecting pbr!=2.1.0,>=2.0.0\n",
      "  Downloading pbr-6.0.0-py2.py3-none-any.whl (107 kB)\n",
      "\u001b[K     |████████████████████████████████| 107 kB 6.9 MB/s eta 0:00:01\n",
      "\u001b[?25hCollecting mpmath<1.4.0,>=1.1.0\n",
      "  Downloading mpmath-1.3.0-py3-none-any.whl (536 kB)\n",
      "\u001b[K     |████████████████████████████████| 536 kB 5.0 MB/s eta 0:00:01\n",
      "\u001b[?25hInstalling collected packages: pbr, numpy, mpmath, sympy, symengine, stevedore, scipy, rustworkx, dill, qiskit\n",
      "Successfully installed dill-0.3.8 mpmath-1.3.0 numpy-2.0.0 pbr-6.0.0 qiskit-1.1.1 rustworkx-0.15.0 scipy-1.13.1 stevedore-5.2.0 symengine-0.11.0 sympy-1.12.1\n",
      "\u001b[33mWARNING: You are using pip version 21.1.3; however, version 24.1.1 is available.\n",
      "You should consider upgrading via the '/Users/isabeladias/.pyenv/versions/3.9.6/bin/python3.9 -m pip install --upgrade pip' command.\u001b[0m\n",
      "Collecting qiskit-aer\n",
      "  Downloading qiskit_aer-0.14.2-cp39-cp39-macosx_10_9_x86_64.whl (2.5 MB)\n",
      "\u001b[K     |████████████████████████████████| 2.5 MB 2.8 MB/s eta 0:00:01     |███████████████████████▊        | 1.8 MB 2.8 MB/s eta 0:00:01\n",
      "\u001b[?25hRequirement already satisfied: numpy>=1.16.3 in /Users/isabeladias/.pyenv/versions/3.9.6/lib/python3.9/site-packages (from qiskit-aer) (2.0.0)\n",
      "Requirement already satisfied: qiskit>=0.45.2 in /Users/isabeladias/.pyenv/versions/3.9.6/lib/python3.9/site-packages (from qiskit-aer) (1.1.1)\n",
      "Requirement already satisfied: scipy>=1.0 in /Users/isabeladias/.pyenv/versions/3.9.6/lib/python3.9/site-packages (from qiskit-aer) (1.13.1)\n",
      "Requirement already satisfied: psutil>=5 in /Users/isabeladias/.pyenv/versions/3.9.6/lib/python3.9/site-packages (from qiskit-aer) (6.0.0)\n",
      "Requirement already satisfied: dill>=0.3 in /Users/isabeladias/.pyenv/versions/3.9.6/lib/python3.9/site-packages (from qiskit>=0.45.2->qiskit-aer) (0.3.8)\n",
      "Requirement already satisfied: symengine>=0.11 in /Users/isabeladias/.pyenv/versions/3.9.6/lib/python3.9/site-packages (from qiskit>=0.45.2->qiskit-aer) (0.11.0)\n",
      "Requirement already satisfied: rustworkx>=0.14.0 in /Users/isabeladias/.pyenv/versions/3.9.6/lib/python3.9/site-packages (from qiskit>=0.45.2->qiskit-aer) (0.15.0)\n",
      "Requirement already satisfied: sympy>=1.3 in /Users/isabeladias/.pyenv/versions/3.9.6/lib/python3.9/site-packages (from qiskit>=0.45.2->qiskit-aer) (1.12.1)\n",
      "Requirement already satisfied: python-dateutil>=2.8.0 in /Users/isabeladias/.pyenv/versions/3.9.6/lib/python3.9/site-packages (from qiskit>=0.45.2->qiskit-aer) (2.9.0.post0)\n",
      "Requirement already satisfied: typing-extensions in /Users/isabeladias/.pyenv/versions/3.9.6/lib/python3.9/site-packages (from qiskit>=0.45.2->qiskit-aer) (4.12.2)\n",
      "Requirement already satisfied: stevedore>=3.0.0 in /Users/isabeladias/.pyenv/versions/3.9.6/lib/python3.9/site-packages (from qiskit>=0.45.2->qiskit-aer) (5.2.0)\n",
      "Requirement already satisfied: six>=1.5 in /Users/isabeladias/.pyenv/versions/3.9.6/lib/python3.9/site-packages (from python-dateutil>=2.8.0->qiskit>=0.45.2->qiskit-aer) (1.16.0)\n",
      "Requirement already satisfied: pbr!=2.1.0,>=2.0.0 in /Users/isabeladias/.pyenv/versions/3.9.6/lib/python3.9/site-packages (from stevedore>=3.0.0->qiskit>=0.45.2->qiskit-aer) (6.0.0)\n",
      "Requirement already satisfied: mpmath<1.4.0,>=1.1.0 in /Users/isabeladias/.pyenv/versions/3.9.6/lib/python3.9/site-packages (from sympy>=1.3->qiskit>=0.45.2->qiskit-aer) (1.3.0)\n",
      "Installing collected packages: qiskit-aer\n",
      "Successfully installed qiskit-aer-0.14.2\n",
      "\u001b[33mWARNING: You are using pip version 21.1.3; however, version 24.1.1 is available.\n",
      "You should consider upgrading via the '/Users/isabeladias/.pyenv/versions/3.9.6/bin/python3.9 -m pip install --upgrade pip' command.\u001b[0m\n"
     ]
    }
   ],
   "source": [
    "!pip install qiskit\n",
    "!pip install qiskit-aer"
   ]
  },
  {
   "cell_type": "code",
   "execution_count": 6,
   "metadata": {},
   "outputs": [],
   "source": [
    "#classical imports\n",
    "import sqlite3\n",
    "\n",
    "#quantum imports\n",
    "from qiskit import QuantumCircuit, transpile, assemble\n",
    "from qiskit_aer import AerSimulator\n",
    "from qiskit.visualization import plot_histogram\n",
    "\n"
   ]
  },
  {
   "cell_type": "code",
   "execution_count": 2,
   "metadata": {},
   "outputs": [],
   "source": [
    "\n",
    "conn = sqlite3.connect('classicaldb.db')\n",
    "cursor = conn.cursor()\n",
    "\n",
    "cursor.execute(\"SELECT Amount FROM Transactions\")\n",
    "data = cursor.fetchall()\n",
    "\n",
    "conn.close()"
   ]
  },
  {
   "cell_type": "code",
   "execution_count": 8,
   "metadata": {},
   "outputs": [
    {
     "name": "stdout",
     "output_type": "stream",
     "text": [
      "{'01': 258, '10': 258, '11': 249, '00': 259}\n"
     ]
    }
   ],
   "source": [
    "qc = QuantumCircuit(2)\n",
    "\n",
    "qc.h([0, 1])\n",
    "\n",
    "qc.cz(0, 1)\n",
    "\n",
    "qc.h([0, 1])\n",
    "\n",
    "# Measure the qubits\n",
    "qc.measure_all()\n",
    "\n",
    "sim = AerSimulator()\n",
    "compiled_circuit = transpile(qc, sim)\n",
    "result = sim.run(compiled_circuit).result()\n",
    "\n",
    "# Get the measurement results\n",
    "counts = result.get_counts(qc)\n",
    "print(counts)"
   ]
  }
 ],
 "metadata": {
  "kernelspec": {
   "display_name": "Python 3",
   "language": "python",
   "name": "python3"
  },
  "language_info": {
   "codemirror_mode": {
    "name": "ipython",
    "version": 3
   },
   "file_extension": ".py",
   "mimetype": "text/x-python",
   "name": "python",
   "nbconvert_exporter": "python",
   "pygments_lexer": "ipython3",
   "version": "3.9.6"
  }
 },
 "nbformat": 4,
 "nbformat_minor": 2
}
